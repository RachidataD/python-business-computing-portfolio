{
 "cells": [
  {
   "cell_type": "markdown",
   "metadata": {},
   "source": [
    "# Problem 1 — Descriptive Stats & Correlation (Cars)\n",
    "\n",
    "This notebook loads the cars dataset, computes descriptive statistics, explores correlations, and creates a scatter plot."
   ]
  },
  {
   "cell_type": "code",
   "execution_count": null,
   "metadata": {},
   "outputs": [],
   "source": [
    "import pandas as pd\n",
    "import matplotlib.pyplot as plt\n",
    "\n",
    "# Load dataset\n",
    "df = pd.read_csv('data/cars.csv')\n",
    "df.head()"
   ]
  },
  {
   "cell_type": "code",
   "execution_count": null,
   "metadata": {},
   "outputs": [],
   "source": [
    "# Descriptive statistics\n",
    "df.describe()"
   ]
  },
  {
   "cell_type": "code",
   "execution_count": null,
   "metadata": {},
   "outputs": [],
   "source": [
    "# Correlations with mpg\n",
    "if 'mpg' in df.columns:\n",
    "    print('mpg vs displacement:', df['mpg'].corr(df['displacement']))\n",
    "    print('mpg vs weight:', df['mpg'].corr(df['weight']))"
   ]
  },
  {
   "cell_type": "code",
   "execution_count": null,
   "metadata": {},
   "outputs": [],
   "source": [
    "# Scatter plot mpg vs weight\n",
    "if 'mpg' in df.columns and 'weight' in df.columns:\n",
    "    ax = df.plot(kind='scatter', x='weight', y='mpg', title='MPG vs Weight')\n",
    "    ax.set_xlabel('Weight')\n",
    "    ax.set_ylabel('MPG')\n",
    "    plt.show()"
   ]
  }
 ],
 "metadata": {
  "kernelspec": {
   "display_name": "Python 3",
   "language": "python",
   "name": "python3"
  },
  "language_info": {
   "name": "python",
   "version": "3.8"
  }
 },
 "nbformat": 4,
 "nbformat_minor": 2
}
